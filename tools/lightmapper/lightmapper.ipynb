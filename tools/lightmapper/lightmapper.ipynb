{
 "cells": [
  {
   "cell_type": "markdown",
   "metadata": {},
   "source": [
    "# Lightmapper"
   ]
  },
  {
   "cell_type": "code",
   "execution_count": 1,
   "metadata": {},
   "outputs": [],
   "source": [
    "from pathlib import Path\n",
    "import os\n",
    "\n",
    "from data_structures.mesh import Mesh\n",
    "from data_structures.entity import Entity\n",
    "from data_structures.scene import Scene\n",
    "from data_structures.color import Color\n",
    "from data_structures.vector3f import Vector3f as vec\n",
    "\n",
    "from renderer import Renderer\n",
    "from lightmapper import Lightmapper"
   ]
  },
  {
   "cell_type": "markdown",
   "metadata": {},
   "source": [
    "### Lightmapper configuration"
   ]
  },
  {
   "cell_type": "code",
   "execution_count": 2,
   "metadata": {},
   "outputs": [],
   "source": [
    "# --- USER CONFIGURATION REQUIRED ---\n",
    "map_filename = 'test_map_open'          # name of the converted TrenchBroom .obj file, map-files are expected to be under './maps'\n",
    "scene_filenames = 'test_scene_test'     # name under which the genrated scene will be saved (including the lightmap)\n",
    "\n",
    "patches_resolution = 0.0625         # number of pathces per worldspace unit -> directly affects lightmap resolution (recomended to use power of 2's like 0.25, 0.125, 0.0625)\n",
    "iterations = 4                       # number of light-bounces\n",
    "atmosphere_color=Color(0, 0, 0)         # indirect atmospheric emission (it is recomended to choose very small values in the range of 0-0.01)\n",
    "hemicube_resolution = 64                # resolution of the hemicubes (defined as the front face res.), lower res. may result abrupt emissive changes\n",
    "#--- USER CONFIGURATION REQUIRED ---s"
   ]
  },
  {
   "cell_type": "code",
   "execution_count": 3,
   "metadata": {},
   "outputs": [],
   "source": [
    "base_path = Path(os.getcwd())\n",
    "map_path = Path(base_path / 'maps' / (map_filename + '.obj'))\n",
    "scene_path = Path(base_path / 'lightmaps' / (scene_filenames + '.json'))\n",
    "lightmap_path = Path(base_path / 'lightmaps' / (scene_filenames + '.hdr'))"
   ]
  },
  {
   "cell_type": "markdown",
   "metadata": {},
   "source": [
    "### Setup the Entities and generate the Scene"
   ]
  },
  {
   "cell_type": "code",
   "execution_count": 4,
   "metadata": {},
   "outputs": [
    {
     "name": "stderr",
     "output_type": "stream",
     "text": [
      "Generating patches: 100%|██████████| 42436/42436 [00:13<00:00, 3114.44it/s]\n"
     ]
    }
   ],
   "source": [
    "# --- USER CONFIGURATION REQUIRED ---\n",
    "# Create the meshes\n",
    "mesh_main = Mesh().from_object(map_path)    # this mesh will be the loaded map file\n",
    "mesh_light_1 = Mesh().from_cube()           # additionally defnie some lights to ligth up the scene by creating cubes as emissive objects\n",
    "mesh_light_2 = Mesh().from_cube() \n",
    "# Convert Meshes into Entities and assign them worldspace transforms (position, rotation, scale, base_color, emissive_color)\n",
    "entity_main = Entity(mesh_main, vec(0, 0, 0), vec(0, 0, 0), vec(1, 1, 1), Color(1, 1, 1), Color(0.0, 0.0, 0.0))\n",
    "entity_light = Entity(mesh_light_1, vec(-2000, -1000, 2000), vec(0, 0, 0), vec(256, 256, 256), Color(1, 1, 1), Color(0.75, 0.75, 0.75))\n",
    "#--- USER CONFIGURATION REQUIRED ---\n",
    "\n",
    "# Generate the Scene using the created entities\n",
    "scene = Scene().create(entities=[entity_main, entity_light], patches_resolution=patches_resolution).save(scene_path)"
   ]
  },
  {
   "cell_type": "markdown",
   "metadata": {},
   "source": [
    "### Lightmap computation"
   ]
  },
  {
   "cell_type": "code",
   "execution_count": 5,
   "metadata": {},
   "outputs": [
    {
     "name": "stderr",
     "output_type": "stream",
     "text": [
      "Iteration 1/4: 100%|██████████| 9616/9616 [00:10<00:00, 897.51it/s]\n",
      "Iteration 2/4: 100%|██████████| 9616/9616 [00:12<00:00, 762.18it/s]\n",
      "Iteration 3/4: 100%|██████████| 9616/9616 [00:12<00:00, 765.61it/s]\n",
      "Iteration 4/4: 100%|██████████| 9616/9616 [00:12<00:00, 761.72it/s]\n"
     ]
    },
    {
     "name": "stdout",
     "output_type": "stream",
     "text": [
      "Image dimensions: (206, 206, 3)\n",
      "Image data type: float32\n",
      "Min pixel value: 0.0\n",
      "Max pixel value: 0.75\n",
      "Saved image as debug_lightmap.png\n"
     ]
    },
    {
     "data": {
      "image/png": "[encoded data removed]",
      "text/plain": [
       "<Figure size 640x480 with 1 Axes>"
      ]
     },
     "metadata": {},
     "output_type": "display_data"
    }
   ],
   "source": [
    "# create the renderer to be used by the ligthmapper\n",
    "lightmap_renderer = Renderer(\n",
    "    width=hemicube_resolution, \n",
    "    height=hemicube_resolution, \n",
    "    scene=scene, \n",
    "    atmosphere_color=atmosphere_color, \n",
    "    lightmap_mode=True\n",
    ")\n",
    "# initialize the lightmapper with the scene and the renderer\n",
    "lightmapper = Lightmapper(scene=scene, renderer=lightmap_renderer)\n",
    "# generate the lightmaps and free up allocated space after the generation is complete\n",
    "lightmapper.generate_lightmap(lightmap_path=lightmap_path, iterations=iterations)\n",
    "lightmap_renderer.destroy()"
   ]
  },
  {
   "cell_type": "markdown",
   "metadata": {},
   "source": [
    "# Lightmap Visualizer"
   ]
  },
  {
   "cell_type": "code",
   "execution_count": 1,
   "metadata": {},
   "outputs": [],
   "source": [
    "from pathlib import Path\n",
    "import os\n",
    "\n",
    "from data_structures.scene import Scene\n",
    "from data_structures.color import Color\n",
    "\n",
    "from renderer import Renderer\n",
    "from lightmapper import Lightmapper"
   ]
  },
  {
   "cell_type": "code",
   "execution_count": 2,
   "metadata": {},
   "outputs": [
    {
     "name": "stderr",
     "output_type": "stream",
     "text": [
      "2024-11-18 10:36:07.522 python[7706:4558875] +[IMKClient subclass]: chose IMKClient_Modern\n"
     ]
    }
   ],
   "source": [
    "# --- USER CONFIGURATION REQUIRED ---          \n",
    "scene_filenames = 'room'         # choose the scene and the lightmap to be loaded\n",
    "viewport_width = 1920                       # width of the viewport in pixels\n",
    "viewport_height = 1080                      # height of the viewport in pixels\n",
    "atmosphere_color = Color(0.2, 0.6, 0.0)     # Color of the atmosphere, has no effect on lighting\n",
    "# --- USER CONFIGURATION REQUIRED ---\n",
    "\n",
    "#assets_path = Path('/home/devbox/Bayernstein/assets')\n",
    "#assets_path = Path('D:/data/Informatik/GamesEngineering/Bayernstein/assets')\n",
    "assets_path = Path('/Users/fabiandepaoli/Library/Mobile Documents/com~apple~CloudDocs/SharedData/HM/GamesEngineering/Bayernstein/assets')\n",
    "#compiled_path = Path('/home/devbox/Bayernstein/assets/compiled')\n",
    "#compiled_path = Path('D:/data/Informatik/GamesEngineering/Bayernstein/assets/compiled')\n",
    "compiled_path = Path('/Users/fabiandepaoli/Library/Mobile Documents/com~apple~CloudDocs/SharedData/HM/GamesEngineering/Bayernstein/assets/compiled')\n",
    "scene_path = compiled_path / scene_filenames / f'{scene_filenames}.json'\n",
    "lightmap_path = compiled_path / scene_filenames / f'{scene_filenames}.hdr'\n",
    "scene = Scene(scene_path, assets_path, lightmap_path).generate_vertex_array()\n",
    "\n",
    "renderer = Renderer(\n",
    "    width=viewport_width, \n",
    "    height=viewport_height, \n",
    "    scene=scene, \n",
    "    atmosphere_color=atmosphere_color, \n",
    "    lightmap_mode=False, \n",
    ")\n",
    "\n",
    "renderer.run()\n",
    "renderer.destroy()"
   ]
  },
  {
   "cell_type": "code",
   "execution_count": null,
   "metadata": {},
   "outputs": [],
   "source": []
  },
  {
   "cell_type": "code",
   "execution_count": null,
   "metadata": {},
   "outputs": [],
   "source": []
  }
 ],
 "metadata": {
  "kernelspec": {
   "display_name": "games_engineering",
   "language": "python",
   "name": "python3"
  },
  "language_info": {
   "codemirror_mode": {
    "name": "ipython",
    "version": 3
   },
   "file_extension": ".py",
   "mimetype": "text/x-python",
   "name": "python",
   "nbconvert_exporter": "python",
   "pygments_lexer": "ipython3",
   "version": "3.12.7"
  }
 },
 "nbformat": 4,
 "nbformat_minor": 2
}
