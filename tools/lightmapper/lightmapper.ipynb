{
 "cells": [
  {
   "cell_type": "markdown",
   "metadata": {},
   "source": [
    "# Lightmap Visualizer"
   ]
  },
  {
   "cell_type": "code",
   "execution_count": 1,
   "metadata": {},
   "outputs": [],
   "source": [
    "from pathlib import Path\n",
    "import os\n",
    "\n",
    "from data_structures.scene import Scene\n",
    "from data_structures.color import Color\n",
    "\n",
    "from renderer import Renderer\n",
    "from lightmapper import Lightmapper"
   ]
  },
  {
   "cell_type": "code",
   "execution_count": 2,
   "metadata": {},
   "outputs": [],
   "source": [
    "# --- USER CONFIGURATION REQUIRED ---          \n",
    "scene_filenames = 'room'         # choose the scene and the lightmap to be loaded\n",
    "viewport_width = 1920                       # width of the viewport in pixels\n",
    "viewport_height = 1080                      # height of the viewport in pixels\n",
    "atmosphere_color = Color(0.01, 0.01, 0.01)     # Color of the atmosphere, has no effect on lighting\n",
    "# --- USER CONFIGURATION REQUIRED ---\n",
    "\n",
    "#assets_path = Path('/home/devbox/Bayernstein/assets')\n",
    "assets_path = Path('D:/data/Informatik/GamesEngineering/Bayernstein/assets')\n",
    "#assets_path = Path('/Users/fabiandepaoli/Library/Mobile Documents/com~apple~CloudDocs/SharedData/HM/GamesEngineering/Bayernstein/assets')\n",
    "#compiled_path = Path('/home/devbox/Bayernstein/assets/compiled')\n",
    "compiled_path = Path('D:/data/Informatik/GamesEngineering/Bayernstein/assets/compiled')\n",
    "#compiled_path = Path('/Users/fabiandepaoli/Library/Mobile Documents/com~apple~CloudDocs/SharedData/HM/GamesEngineering/Bayernstein/assets/compiled')\n",
    "scene_path = compiled_path / scene_filenames / f'{scene_filenames}.json'\n",
    "lightmap_path = compiled_path / scene_filenames / f'{scene_filenames}.hdr'\n",
    "scene = Scene(scene_path, assets_path, lightmap_path).generate_vertex_array()\n",
    "\n",
    "renderer = Renderer(\n",
    "    width=viewport_width, \n",
    "    height=viewport_height, \n",
    "    scene=scene,\n",
    "    atmosphere_color=atmosphere_color, \n",
    "    lightmap_mode=False, \n",
    ")\n",
    "\n",
    "renderer.run()\n",
    "renderer.destroy()"
   ]
  },
  {
   "cell_type": "code",
   "execution_count": null,
   "metadata": {},
   "outputs": [],
   "source": []
  }
 ],
 "metadata": {
  "kernelspec": {
   "display_name": "Python 3",
   "language": "python",
   "name": "python3"
  },
  "language_info": {
   "codemirror_mode": {
    "name": "ipython",
    "version": 3
   },
   "file_extension": ".py",
   "mimetype": "text/x-python",
   "name": "python",
   "nbconvert_exporter": "python",
   "pygments_lexer": "ipython3",
   "version": "3.12.2"
  }
 },
 "nbformat": 4,
 "nbformat_minor": 2
}
