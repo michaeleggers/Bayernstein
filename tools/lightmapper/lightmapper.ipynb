{
 "cells": [
  {
   "cell_type": "markdown",
   "metadata": {},
   "source": [
    "### Create the Scene"
   ]
  },
  {
   "cell_type": "code",
   "execution_count": 1,
   "metadata": {},
   "outputs": [
    {
     "name": "stdout",
     "output_type": "stream",
     "text": [
      "pygame 2.6.1 (SDL 2.28.4, Python 3.12.2)\n",
      "Hello from the pygame community. https://www.pygame.org/contribute.html\n"
     ]
    }
   ],
   "source": [
    "from pathlib import Path\n",
    "\n",
    "from data_structures.mesh import Mesh\n",
    "from data_structures.entity import Entity\n",
    "from data_structures.scene import Scene\n",
    "from data_structures.color import Color\n",
    "from data_structures.vector3f import Vector3f as vec\n",
    "\n",
    "from renderer import Renderer\n",
    "from lightmapper import Lightmapper"
   ]
  },
  {
   "cell_type": "code",
   "execution_count": 3,
   "metadata": {},
   "outputs": [],
   "source": [
    "level_path = Path('levels/test_map_open.obj')\n",
    "scene_name = 'lightmaps/test_scene_test'"
   ]
  },
  {
   "cell_type": "code",
   "execution_count": 4,
   "metadata": {},
   "outputs": [
    {
     "name": "stderr",
     "output_type": "stream",
     "text": [
      "Generating patches: 100%|██████████| 88804/88804 [00:25<00:00, 3509.85it/s]\n"
     ]
    }
   ],
   "source": [
    "# Create the meshes\n",
    "mesh_main = Mesh().from_object(level_path)\n",
    "mesh_light_1 = Mesh().from_cube()\n",
    "# Convert them into entities and assign them Worldspace Transforms\n",
    "entity_main = Entity(mesh_main, vec(0, 0, 0), vec(0, 0, 0), vec(1, 1, 1), Color(1, 1, 1), Color(0.0, 0.0, 0.0))\n",
    "entity_light_1 = Entity(mesh_light_1, vec(0, 0, 10), vec(0, 0, 0), vec(32, 32, 32), Color(0.08, 0.01, 0.07), Color(0.08, 0.01, 0.07))\n",
    "# Create the Scene\n",
    "#scene = Scene().create(entities=[entity_main, entity_light_1, entity_light_2], patches_resolution=0.25).save(Path(f'{scene_name}.json'))\n",
    "scene = Scene().create(entities=[entity_main, entity_light_1], patches_resolution= 0.125).save(Path(f'{scene_name}.json')) #0.25, 0,125, 0.0625"
   ]
  },
  {
   "cell_type": "markdown",
   "metadata": {},
   "source": [
    "# Lightmapping"
   ]
  },
  {
   "cell_type": "code",
   "execution_count": 5,
   "metadata": {},
   "outputs": [
    {
     "name": "stderr",
     "output_type": "stream",
     "text": [
      "Iteration 1/4: 100%|██████████| 34884/34884 [01:17<00:00, 448.15it/s]\n",
      "Iteration 2/4: 100%|██████████| 34884/34884 [01:12<00:00, 481.72it/s]\n",
      "Iteration 3/4: 100%|██████████| 34884/34884 [01:17<00:00, 449.50it/s]\n",
      "Iteration 4/4: 100%|██████████| 34884/34884 [01:14<00:00, 467.34it/s]"
     ]
    },
    {
     "name": "stdout",
     "output_type": "stream",
     "text": [
      "Image dimensions: (298, 298, 3)\n",
      "Image data type: float32\n",
      "Min pixel value: 0.0\n",
      "Max pixel value: 0.07958984375\n",
      "Saved image as debug_lightmap.png\n"
     ]
    },
    {
     "name": "stderr",
     "output_type": "stream",
     "text": [
      "\n"
     ]
    },
    {
     "data": {
      "image/png": "[encoded data removed]",
      "text/plain": [
       "<Figure size 640x480 with 1 Axes>"
      ]
     },
     "metadata": {},
     "output_type": "display_data"
    }
   ],
   "source": [
    "lightmap_renderer = Renderer(width=128, height=128, fov=90, scene=scene, atmosphere_color=Color(0, 0, 0), lightmap_mode=True)\n",
    "lightmapper = Lightmapper(scene=scene, renderer=lightmap_renderer)\n",
    "lightmapper.generate_lightmap(lightmap_path=Path(scene_name), iterations=4)\n",
    "lightmap_renderer.destroy()"
   ]
  },
  {
   "cell_type": "code",
   "execution_count": null,
   "metadata": {},
   "outputs": [],
   "source": []
  }
 ],
 "metadata": {
  "kernelspec": {
   "display_name": "Python 3",
   "language": "python",
   "name": "python3"
  },
  "language_info": {
   "codemirror_mode": {
    "name": "ipython",
    "version": 3
   },
   "file_extension": ".py",
   "mimetype": "text/x-python",
   "name": "python",
   "nbconvert_exporter": "python",
   "pygments_lexer": "ipython3",
   "version": "3.12.2"
  }
 },
 "nbformat": 4,
 "nbformat_minor": 2
}
