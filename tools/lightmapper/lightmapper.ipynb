{
 "cells": [
  {
   "cell_type": "markdown",
   "metadata": {},
   "source": [
    "# Lightmapper"
   ]
  },
  {
   "cell_type": "code",
   "execution_count": 7,
   "metadata": {},
   "outputs": [],
   "source": [
    "from pathlib import Path\n",
    "import os\n",
    "\n",
    "from data_structures.mesh import Mesh\n",
    "from data_structures.entity import Entity\n",
    "from data_structures.scene import Scene\n",
    "from data_structures.color import Color\n",
    "from data_structures.vector3f import Vector3f as vec\n",
    "\n",
    "from renderer import Renderer\n",
    "from lightmapper import Lightmapper"
   ]
  },
  {
   "cell_type": "markdown",
   "metadata": {},
   "source": [
    "### Lightmapper configuration"
   ]
  },
  {
   "cell_type": "code",
   "execution_count": 8,
   "metadata": {},
   "outputs": [],
   "source": [
    "# --- USER CONFIGURATION REQUIRED ---\n",
    "map_filename = 'test_map_open'          # name of the converted TrenchBroom .obj file, map-files are expected to be under './maps'\n",
    "scene_filenames = 'test_scene_test'     # name under which the genrated scene will be saved (including the lightmap)\n",
    "\n",
    "patches_resolution = 0.0625             # number of pathces per worldspace unit -> directly affects lightmap resolution (recomended to use power of 2's like 0.25, 0.125, 0.0625)\n",
    "iterations = 3                          # number of light-bounces\n",
    "atmosphere_color=Color(0.01, 0.01, 0.01)         # indirect atmospheric emission (it is recomended to choose very small values in the range of 0-0.01)\n",
    "hemicube_resolution = 64                # resolution of the hemicubes (defined as the front face res.), lower res. may result abrupt emissive changes\n",
    "#--- USER CONFIGURATION REQUIRED ---"
   ]
  },
  {
   "cell_type": "code",
   "execution_count": 9,
   "metadata": {},
   "outputs": [],
   "source": [
    "base_path = Path(os.getcwd())\n",
    "map_path = Path(base_path / 'maps' / (map_filename + '.obj'))\n",
    "scene_path = Path(base_path / 'lightmaps' / (scene_filenames + '.json'))\n",
    "lightmap_path = Path(base_path / 'lightmaps' / (scene_filenames + '.hdr'))"
   ]
  },
  {
   "cell_type": "markdown",
   "metadata": {},
   "source": [
    "### Setup the Entities and generate the Scene"
   ]
  },
  {
   "cell_type": "code",
   "execution_count": 10,
   "metadata": {},
   "outputs": [
    {
     "name": "stderr",
     "output_type": "stream",
     "text": [
      "Generating patches: 100%|██████████| 22201/22201 [00:04<00:00, 4737.30it/s]\n"
     ]
    }
   ],
   "source": [
    "# --- USER CONFIGURATION REQUIRED ---\n",
    "# Create the meshes\n",
    "mesh_main = Mesh().from_object(map_path)    # this mesh will be the loaded map file\n",
    "mesh_light_1 = Mesh().from_cube()           # additionally defnie some lights to ligth up the scene by creating cubes as emissive objects\n",
    "# Convert Meshes into Entities and assign them worldspace transforms (position, rotation, scale, base_color, emissive_color)\n",
    "entity_main = Entity(mesh_main, vec(0, 0, 0), vec(0, 0, 0), vec(1, 1, 1), Color(1, 1, 1), Color(0.0, 0.0, 0.0))\n",
    "entity_light = Entity(mesh_light_1, vec(0, 0, 200), vec(0, 0, 0), vec(32, 32, 32), Color(0.08, 0.01, 0.07), Color(0.2, 0.2, 0.2))\n",
    "#--- USER CONFIGURATION REQUIRED ---\n",
    "\n",
    "# Generate the Scene using the created entities\n",
    "scene = Scene().create(entities=[entity_main, entity_light], patches_resolution=patches_resolution).save(scene_path)"
   ]
  },
  {
   "cell_type": "markdown",
   "metadata": {},
   "source": [
    "### Lightmap computation"
   ]
  },
  {
   "cell_type": "code",
   "execution_count": 11,
   "metadata": {},
   "outputs": [
    {
     "name": "stderr",
     "output_type": "stream",
     "text": [
      "Iteration 1/3: 100%|██████████| 9652/9652 [00:23<00:00, 402.45it/s]\n",
      "Iteration 2/3: 100%|██████████| 9652/9652 [00:24<00:00, 400.78it/s]\n",
      "Iteration 3/3: 100%|██████████| 9652/9652 [00:23<00:00, 402.39it/s]"
     ]
    },
    {
     "name": "stdout",
     "output_type": "stream",
     "text": [
      "Image dimensions: (149, 149, 3)\n",
      "Image data type: float32\n",
      "Min pixel value: 0.0\n",
      "Max pixel value: 0.19921875\n",
      "Saved image as debug_lightmap.png\n"
     ]
    },
    {
     "name": "stderr",
     "output_type": "stream",
     "text": [
      "\n"
     ]
    },
    {
     "data": {
      "image/png": "[encoded data removed]",
      "text/plain": [
       "<Figure size 640x480 with 1 Axes>"
      ]
     },
     "metadata": {},
     "output_type": "display_data"
    }
   ],
   "source": [
    "# create the renderer to be used by the ligthmapper\n",
    "lightmap_renderer = Renderer(\n",
    "    width=hemicube_resolution, \n",
    "    height=hemicube_resolution, \n",
    "    scene=scene, \n",
    "    atmosphere_color=atmosphere_color, \n",
    "    lightmap_mode=True\n",
    ")\n",
    "# initialize the lightmapper with the scene and the renderer\n",
    "lightmapper = Lightmapper(scene=scene, renderer=lightmap_renderer)\n",
    "# generate the lightmaps and free up allocated space after the generation is complete\n",
    "lightmapper.generate_lightmap(lightmap_path=lightmap_path, iterations=iterations)\n",
    "lightmap_renderer.destroy()"
   ]
  },
  {
   "cell_type": "markdown",
   "metadata": {},
   "source": [
    "# Lightmap Visualizer"
   ]
  },
  {
   "cell_type": "code",
   "execution_count": 13,
   "metadata": {},
   "outputs": [],
   "source": [
    "# --- USER CONFIGURATION REQUIRED ---\n",
    "scene_filenames = scene_filenames           # choose the scene and the lightmap to be loaded\n",
    "#scene_filenames = 'test_scene_colors'\n",
    "viewport_width = 1920                       # width of the viewport in pixels\n",
    "viewport_height = 1080                      # height of the viewport in pixels\n",
    "atmosphere_color = Color(0.0, 0.0, 0.0)     # Color of the atmosphere, has no effect on lighting\n",
    "# --- USER CONFIGURATION REQUIRED ---\n",
    "\n",
    "scene_path = Path(base_path / 'lightmaps' / (scene_filenames + '.json'))\n",
    "lightmap_path = Path(base_path / 'lightmaps' / (scene_filenames + '.hdr'))\n",
    "\n",
    "scene = Scene().load(scene_path)\n",
    "renderer = Renderer(\n",
    "    width=viewport_width, \n",
    "    height=viewport_height, \n",
    "    scene=scene, \n",
    "    atmosphere_color=atmosphere_color, \n",
    "    lightmap_mode=False, \n",
    "    light_map_path=lightmap_path\n",
    ")\n",
    "\n",
    "renderer.run()\n",
    "renderer.destroy()"
   ]
  }
 ],
 "metadata": {
  "kernelspec": {
   "display_name": "games_engineering",
   "language": "python",
   "name": "python3"
  },
  "language_info": {
   "codemirror_mode": {
    "name": "ipython",
    "version": 3
   },
   "file_extension": ".py",
   "mimetype": "text/x-python",
   "name": "python",
   "nbconvert_exporter": "python",
   "pygments_lexer": "ipython3",
   "version": "3.13.0"
  }
 },
 "nbformat": 4,
 "nbformat_minor": 2
}
