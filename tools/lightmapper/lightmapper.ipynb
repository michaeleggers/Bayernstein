{
 "cells": [
  {
   "cell_type": "markdown",
   "metadata": {},
   "source": [
    "# Lightmap Visualizer"
   ]
  },
  {
   "cell_type": "code",
   "execution_count": 11,
   "metadata": {},
   "outputs": [],
   "source": [
    "from pathlib import Path\n",
    "import os\n",
    "\n",
    "from data_structures.scene import Scene\n",
    "from data_structures.color import Color\n",
    "\n",
    "from renderer import Renderer\n",
    "from lightmapper import Lightmapper"
   ]
  },
  {
   "cell_type": "code",
   "execution_count": 10,
   "metadata": {},
   "outputs": [],
   "source": [
    "# --- USER CONFIGURATION REQUIRED ---          \n",
    "scene_filenames = 'lightmap_test'         # choose the scene and the lightmap to be loaded\n",
    "viewport_width = 1920                       # width of the viewport in pixels\n",
    "viewport_height = 1080                      # height of the viewport in pixels\n",
    "atmosphere_color = Color(0.01, 0.01, 0.01)     # Color of the atmosphere, has no effect on lighting\n",
    "# --- USER CONFIGURATION REQUIRED ---\n",
    "\n",
    "#assets_path = Path('/home/devbox/Bayernstein/assets')\n",
    "assets_path = Path('D:/data/Informatik/GamesEngineering/Bayernstein/assets')\n",
    "#assets_path = Path('/Users/fabiandepaoli/Library/Mobile Documents/com~apple~CloudDocs/SharedData/HM/GamesEngineering/Bayernstein/assets')\n",
    "#compiled_path = Path('/home/devbox/Bayernstein/assets/compiled')\n",
    "compiled_path = Path('D:/data/Informatik/GamesEngineering/Bayernstein/assets/compiled')\n",
    "#compiled_path = Path('/Users/fabiandepaoli/Library/Mobile Documents/com~apple~CloudDocs/SharedData/HM/GamesEngineering/Bayernstein/assets/compiled')\n",
    "scene_path = compiled_path / scene_filenames / f'{scene_filenames}.json'\n",
    "lightmap_path = compiled_path / scene_filenames / f'{scene_filenames}.hdr'\n",
    "scene = Scene(scene_path, assets_path, lightmap_path)\n",
    "#scene.create_frames(patch_resolution=0.0625)\n",
    "\n",
    "scene.generate_vertex_array()\n",
    "#scene.generate_line_array()\n",
    "\n",
    "#scene.save_to_binary(compiled_path / f'{scene_filenames}/{scene_filenames}.ply')\n",
    "# for now also save it as a json as it is useful for debugging purposes, can be removed later\n",
    "#scene.save_to_json(compiled_path / f'{scene_filenames}/{scene_filenames}.json', assets_path)   \n",
    "\n",
    "# Create the renderer\n",
    "#lightmap_renderer = Renderer(width=32, height=32, scene=scene, atmosphere_color=atmosphere_color, lightmap_mode=True)\n",
    "\n",
    "# Initialize the lightmapper\n",
    "#lightmapper = Lightmapper(scene=scene, renderer=lightmap_renderer)\n",
    "\n",
    "# Generate the lightmaps\n",
    "#lightmap_path = compiled_path / f'{scene_filenames}/{scene_filenames}.hdr'\n",
    "#lightmapper.generate_lightmap(lightmap_path=lightmap_path, iterations=1, patch_resolution=0.0625)\n",
    "# Clean up\n",
    "#lightmap_renderer.destroy()\n",
    "\n",
    "renderer = Renderer(\n",
    "    width=viewport_width, \n",
    "    height=viewport_height, \n",
    "    scene=scene,\n",
    "    atmosphere_color=atmosphere_color, \n",
    "    lightmap_mode=False, \n",
    ")\n",
    "\n",
    "renderer.run()\n",
    "renderer.destroy()"
   ]
  },
  {
   "cell_type": "code",
   "execution_count": null,
   "metadata": {},
   "outputs": [],
   "source": []
  },
  {
   "cell_type": "code",
   "execution_count": null,
   "metadata": {},
   "outputs": [],
   "source": []
  }
 ],
 "metadata": {
  "kernelspec": {
   "display_name": "Python 3",
   "language": "python",
   "name": "python3"
  },
  "language_info": {
   "codemirror_mode": {
    "name": "ipython",
    "version": 3
   },
   "file_extension": ".py",
   "mimetype": "text/x-python",
   "name": "python",
   "nbconvert_exporter": "python",
   "pygments_lexer": "ipython3",
   "version": "3.12.2"
  }
 },
 "nbformat": 4,
 "nbformat_minor": 2
}
