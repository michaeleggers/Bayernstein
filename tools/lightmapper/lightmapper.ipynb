{
 "cells": [
  {
   "cell_type": "markdown",
   "metadata": {},
   "source": [
    "# Lightmap Visualizer"
   ]
  },
  {
   "cell_type": "code",
   "execution_count": 4,
   "metadata": {},
   "outputs": [],
   "source": [
    "from pathlib import Path\n",
    "import os\n",
    "\n",
    "from data_structures.scene import Scene\n",
    "from data_structures.color import Color\n",
    "\n",
    "from renderer import Renderer\n",
    "from lightmapper import Lightmapper"
   ]
  },
  {
   "cell_type": "code",
   "execution_count": 5,
   "metadata": {},
   "outputs": [
    {
     "ename": "FileNotFoundError",
     "evalue": "[Errno 2] No such file or directory: 'D:/data/Informatik/GamesEngineering/Bayernstein/assets/compiled/Milestone4/Milestone4.json'",
     "output_type": "error",
     "traceback": [
      "\u001b[0;31m---------------------------------------------------------------------------\u001b[0m",
      "\u001b[0;31mFileNotFoundError\u001b[0m                         Traceback (most recent call last)",
      "Cell \u001b[0;32mIn[5], line 16\u001b[0m\n\u001b[1;32m     14\u001b[0m scene_path \u001b[38;5;241m=\u001b[39m compiled_path \u001b[38;5;241m/\u001b[39m scene_filenames \u001b[38;5;241m/\u001b[39m \u001b[38;5;124mf\u001b[39m\u001b[38;5;124m'\u001b[39m\u001b[38;5;132;01m{\u001b[39;00mscene_filenames\u001b[38;5;132;01m}\u001b[39;00m\u001b[38;5;124m.json\u001b[39m\u001b[38;5;124m'\u001b[39m\n\u001b[1;32m     15\u001b[0m lightmap_path \u001b[38;5;241m=\u001b[39m compiled_path \u001b[38;5;241m/\u001b[39m scene_filenames \u001b[38;5;241m/\u001b[39m \u001b[38;5;124mf\u001b[39m\u001b[38;5;124m'\u001b[39m\u001b[38;5;132;01m{\u001b[39;00mscene_filenames\u001b[38;5;132;01m}\u001b[39;00m\u001b[38;5;124m.hdr\u001b[39m\u001b[38;5;124m'\u001b[39m\n\u001b[0;32m---> 16\u001b[0m scene \u001b[38;5;241m=\u001b[39m \u001b[43mScene\u001b[49m\u001b[43m(\u001b[49m\u001b[43mscene_path\u001b[49m\u001b[43m,\u001b[49m\u001b[43m \u001b[49m\u001b[43massets_path\u001b[49m\u001b[43m,\u001b[49m\u001b[43m \u001b[49m\u001b[43mlightmap_path\u001b[49m\u001b[43m)\u001b[49m\n\u001b[1;32m     17\u001b[0m \u001b[38;5;66;03m#scene.create_frames(patch_resolution=0.0625)\u001b[39;00m\n\u001b[1;32m     19\u001b[0m scene\u001b[38;5;241m.\u001b[39mgenerate_vertex_array()\n",
      "File \u001b[0;32m~/Library/Mobile Documents/com~apple~CloudDocs/SharedData/HM/GamesEngineering/Bayernstein/tools/lightmapper/data_structures/scene.py:38\u001b[0m, in \u001b[0;36mScene.__init__\u001b[0;34m(self, map_path, assets_path, lightmap_path)\u001b[0m\n\u001b[1;32m     34\u001b[0m \u001b[38;5;28;01mdef\u001b[39;00m \u001b[38;5;21m__init__\u001b[39m(\u001b[38;5;28mself\u001b[39m, map_path, assets_path, lightmap_path \u001b[38;5;241m=\u001b[39m \u001b[38;5;28;01mNone\u001b[39;00m) \u001b[38;5;241m-\u001b[39m\u001b[38;5;241m>\u001b[39m \u001b[38;5;28;01mNone\u001b[39;00m:\n\u001b[1;32m     35\u001b[0m \n\u001b[1;32m     36\u001b[0m     \u001b[38;5;66;03m# Load the map from JSON\u001b[39;00m\n\u001b[1;32m     37\u001b[0m     textures_directory \u001b[38;5;241m=\u001b[39m Path(assets_path) \u001b[38;5;241m/\u001b[39m \u001b[38;5;124m'\u001b[39m\u001b[38;5;124mtextures\u001b[39m\u001b[38;5;124m'\u001b[39m\n\u001b[0;32m---> 38\u001b[0m     \u001b[38;5;28mself\u001b[39m\u001b[38;5;241m.\u001b[39mtriangles, \u001b[38;5;28mself\u001b[39m\u001b[38;5;241m.\u001b[39mtexture_uvs, \u001b[38;5;28mself\u001b[39m\u001b[38;5;241m.\u001b[39mlightmap_uvs, \u001b[38;5;28mself\u001b[39m\u001b[38;5;241m.\u001b[39mtextures, \u001b[38;5;28mself\u001b[39m\u001b[38;5;241m.\u001b[39memissions, \u001b[38;5;28mself\u001b[39m\u001b[38;5;241m.\u001b[39mlights \u001b[38;5;241m=\u001b[39m \u001b[38;5;28;43mself\u001b[39;49m\u001b[38;5;241;43m.\u001b[39;49m\u001b[43mload_from_json\u001b[49m\u001b[43m(\u001b[49m\u001b[43mmap_path\u001b[49m\u001b[43m,\u001b[49m\u001b[43m \u001b[49m\u001b[43massets_path\u001b[49m\u001b[43m)\u001b[49m\n\u001b[1;32m     39\u001b[0m     \u001b[38;5;66;03m# Create the Texture Array using the geometries texture informations\u001b[39;00m\n\u001b[1;32m     40\u001b[0m     \u001b[38;5;28mself\u001b[39m\u001b[38;5;241m.\u001b[39mtexture_array, \u001b[38;5;28mself\u001b[39m\u001b[38;5;241m.\u001b[39mtexture_index_mapping \u001b[38;5;241m=\u001b[39m \u001b[38;5;28mself\u001b[39m\u001b[38;5;241m.\u001b[39mcreate_texture_array(\u001b[38;5;28mself\u001b[39m\u001b[38;5;241m.\u001b[39mtextures, \u001b[38;5;28mself\u001b[39m\u001b[38;5;241m.\u001b[39mtexture_uvs, textures_directory)\n",
      "File \u001b[0;32m~/Library/Mobile Documents/com~apple~CloudDocs/SharedData/HM/GamesEngineering/Bayernstein/tools/lightmapper/data_structures/scene.py:62\u001b[0m, in \u001b[0;36mScene.load_from_json\u001b[0;34m(self, json_path, assets_path)\u001b[0m\n\u001b[1;32m     59\u001b[0m texture_dimensions_cache \u001b[38;5;241m=\u001b[39m {}\n\u001b[1;32m     61\u001b[0m \u001b[38;5;66;03m# Load JSON data\u001b[39;00m\n\u001b[0;32m---> 62\u001b[0m \u001b[38;5;28;01mwith\u001b[39;00m \u001b[38;5;28;43mopen\u001b[39;49m\u001b[43m(\u001b[49m\u001b[43mjson_path\u001b[49m\u001b[43m,\u001b[49m\u001b[43m \u001b[49m\u001b[38;5;124;43m'\u001b[39;49m\u001b[38;5;124;43mr\u001b[39;49m\u001b[38;5;124;43m'\u001b[39;49m\u001b[43m)\u001b[49m \u001b[38;5;28;01mas\u001b[39;00m file:\n\u001b[1;32m     63\u001b[0m     data \u001b[38;5;241m=\u001b[39m json\u001b[38;5;241m.\u001b[39mload(file)\n\u001b[1;32m     65\u001b[0m \u001b[38;5;66;03m# Extract lights\u001b[39;00m\n",
      "\u001b[0;31mFileNotFoundError\u001b[0m: [Errno 2] No such file or directory: 'D:/data/Informatik/GamesEngineering/Bayernstein/assets/compiled/Milestone4/Milestone4.json'"
     ]
    }
   ],
   "source": [
    "# --- USER CONFIGURATION REQUIRED ---          \n",
    "scene_filenames = 'Milestone4'         # choose the scene and the lightmap to be loaded\n",
    "viewport_width = 1920                       # width of the viewport in pixels\n",
    "viewport_height = 1080                      # height of the viewport in pixels\n",
    "atmosphere_color = Color(0.01, 0.01, 0.01)     # Color of the atmosphere, has no effect on lighting\n",
    "# --- USER CONFIGURATION REQUIRED ---\n",
    "\n",
    "#assets_path = Path('/home/devbox/Bayernstein/assets')\n",
    "assets_path = Path('D:/data/Informatik/GamesEngineering/Bayernstein/assets')\n",
    "#assets_path = Path('/Users/fabiandepaoli/Library/Mobile Documents/com~apple~CloudDocs/SharedData/HM/GamesEngineering/Bayernstein/assets')\n",
    "#compiled_path = Path('/home/devbox/Bayernstein/assets/compiled')\n",
    "compiled_path = Path('D:/data/Informatik/GamesEngineering/Bayernstein/assets/compiled')\n",
    "#compiled_path = Path('/Users/fabiandepaoli/Library/Mobile Documents/com~apple~CloudDocs/SharedData/HM/GamesEngineering/Bayernstein/assets/compiled')\n",
    "scene_path = compiled_path / scene_filenames / f'{scene_filenames}.json'\n",
    "lightmap_path = compiled_path / scene_filenames / f'{scene_filenames}.hdr'\n",
    "scene = Scene(scene_path, assets_path, lightmap_path)\n",
    "#scene.create_frames(patch_resolution=0.0625)\n",
    "\n",
    "scene.generate_vertex_array()\n",
    "#scene.generate_line_array()\n",
    "\n",
    "#scene.save_to_binary(compiled_path / f'{scene_filenames}/{scene_filenames}.ply')\n",
    "# for now also save it as a json as it is useful for debugging purposes, can be removed later\n",
    "#scene.save_to_json(compiled_path / f'{scene_filenames}/{scene_filenames}.json', assets_path)   \n",
    "\n",
    "# Create the renderer\n",
    "#lightmap_renderer = Renderer(width=32, height=32, scene=scene, atmosphere_color=atmosphere_color, lightmap_mode=True)\n",
    "\n",
    "# Initialize the lightmapper\n",
    "#lightmapper = Lightmapper(scene=scene, renderer=lightmap_renderer)\n",
    "\n",
    "# Generate the lightmaps\n",
    "#lightmap_path = compiled_path / f'{scene_filenames}/{scene_filenames}.hdr'\n",
    "#lightmapper.generate_lightmap(lightmap_path=lightmap_path, iterations=1, patch_resolution=0.0625)\n",
    "# Clean up\n",
    "#lightmap_renderer.destroy()\n",
    "\n",
    "renderer = Renderer(\n",
    "    width=viewport_width, \n",
    "    height=viewport_height, \n",
    "    scene=scene,\n",
    "    atmosphere_color=atmosphere_color, \n",
    "    lightmap_mode=False, \n",
    ")\n",
    "\n",
    "renderer.run()\n",
    "renderer.destroy()"
   ]
  },
  {
   "cell_type": "code",
   "execution_count": null,
   "metadata": {},
   "outputs": [],
   "source": []
  },
  {
   "cell_type": "code",
   "execution_count": null,
   "metadata": {},
   "outputs": [],
   "source": []
  },
  {
   "cell_type": "code",
   "execution_count": null,
   "metadata": {},
   "outputs": [],
   "source": []
  }
 ],
 "metadata": {
  "kernelspec": {
   "display_name": "games_engineering",
   "language": "python",
   "name": "python3"
  },
  "language_info": {
   "codemirror_mode": {
    "name": "ipython",
    "version": 3
   },
   "file_extension": ".py",
   "mimetype": "text/x-python",
   "name": "python",
   "nbconvert_exporter": "python",
   "pygments_lexer": "ipython3",
   "version": "3.12.7"
  }
 },
 "nbformat": 4,
 "nbformat_minor": 2
}
