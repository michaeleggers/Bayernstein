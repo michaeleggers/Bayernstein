{
 "cells": [
  {
   "cell_type": "code",
   "execution_count": 4,
   "metadata": {},
   "outputs": [
    {
     "name": "stdout",
     "output_type": "stream",
     "text": [
      "OpenGL: b'2.1 Metal - 89.3'\n",
      "glGenVertexArrays Available True\n"
     ]
    },
    {
     "ename": "GLError",
     "evalue": "GLError(\n\terr = 1282,\n\tdescription = b'invalid operation',\n\tbaseOperation = glGenVertexArrays,\n\tpyArgs = (1, <object object at 0x104ea3450>),\n\tcArgs = (1, array([0], dtype=uint32)),\n\tcArguments = (1, array([0], dtype=uint32))\n)",
     "output_type": "error",
     "traceback": [
      "\u001b[0;31m---------------------------------------------------------------------------\u001b[0m",
      "\u001b[0;31mGLError\u001b[0m                                   Traceback (most recent call last)",
      "Cell \u001b[0;32mIn[4], line 12\u001b[0m\n\u001b[1;32m     10\u001b[0m \u001b[38;5;28mprint\u001b[39m(\u001b[38;5;124m\"\u001b[39m\u001b[38;5;124mOpenGL: \u001b[39m\u001b[38;5;124m\"\u001b[39m \u001b[38;5;241m+\u001b[39m \u001b[38;5;28mstr\u001b[39m(glGetString(GL_VERSION)))\n\u001b[1;32m     11\u001b[0m \u001b[38;5;28mprint\u001b[39m(\u001b[38;5;124m'\u001b[39m\u001b[38;5;124mglGenVertexArrays Available \u001b[39m\u001b[38;5;132;01m%s\u001b[39;00m\u001b[38;5;124m'\u001b[39m \u001b[38;5;241m%\u001b[39m \u001b[38;5;28mbool\u001b[39m(glGenVertexArrays))\n\u001b[0;32m---> 12\u001b[0m vao \u001b[38;5;241m=\u001b[39m \u001b[43mglGenVertexArrays\u001b[49m\u001b[43m(\u001b[49m\u001b[38;5;241;43m1\u001b[39;49m\u001b[43m)\u001b[49m\n\u001b[1;32m     14\u001b[0m path \u001b[38;5;241m=\u001b[39m \u001b[38;5;124m'\u001b[39m\u001b[38;5;124mlightmaps/test_scene_test\u001b[39m\u001b[38;5;124m'\u001b[39m\n\u001b[1;32m     15\u001b[0m \u001b[38;5;66;03m#path = 'lightmaps/test_scene_sunlight'\u001b[39;00m\n",
      "File \u001b[0;32m/opt/homebrew/anaconda3/envs/games_engineering/lib/python3.13/site-packages/OpenGL/latebind.py:43\u001b[0m, in \u001b[0;36mLateBind.__call__\u001b[0;34m(self, *args, **named)\u001b[0m\n\u001b[1;32m     36\u001b[0m \u001b[38;5;250m\u001b[39m\u001b[38;5;124;03m\"\"\"Call self._finalCall, calling finalise() first if not already called\u001b[39;00m\n\u001b[1;32m     37\u001b[0m \n\u001b[1;32m     38\u001b[0m \u001b[38;5;124;03mThere's actually *no* reason to unpack and repack the arguments,\u001b[39;00m\n\u001b[1;32m     39\u001b[0m \u001b[38;5;124;03mbut unfortunately I don't know of a Cython syntax to specify\u001b[39;00m\n\u001b[1;32m     40\u001b[0m \u001b[38;5;124;03mthat.\u001b[39;00m\n\u001b[1;32m     41\u001b[0m \u001b[38;5;124;03m\"\"\"\u001b[39;00m\n\u001b[1;32m     42\u001b[0m \u001b[38;5;28;01mtry\u001b[39;00m:\n\u001b[0;32m---> 43\u001b[0m     \u001b[38;5;28;01mreturn\u001b[39;00m \u001b[38;5;28;43mself\u001b[39;49m\u001b[38;5;241;43m.\u001b[39;49m\u001b[43m_finalCall\u001b[49m\u001b[43m(\u001b[49m\u001b[43m \u001b[49m\u001b[38;5;241;43m*\u001b[39;49m\u001b[43margs\u001b[49m\u001b[43m,\u001b[49m\u001b[43m \u001b[49m\u001b[38;5;241;43m*\u001b[39;49m\u001b[38;5;241;43m*\u001b[39;49m\u001b[43mnamed\u001b[49m\u001b[43m \u001b[49m\u001b[43m)\u001b[49m\n\u001b[1;32m     44\u001b[0m \u001b[38;5;28;01mexcept\u001b[39;00m (\u001b[38;5;167;01mTypeError\u001b[39;00m,\u001b[38;5;167;01mAttributeError\u001b[39;00m) \u001b[38;5;28;01mas\u001b[39;00m err:\n\u001b[1;32m     45\u001b[0m     \u001b[38;5;28;01mif\u001b[39;00m \u001b[38;5;28mself\u001b[39m\u001b[38;5;241m.\u001b[39m_finalCall \u001b[38;5;129;01mis\u001b[39;00m \u001b[38;5;28;01mNone\u001b[39;00m:\n",
      "File \u001b[0;32m/opt/homebrew/anaconda3/envs/games_engineering/lib/python3.13/site-packages/OpenGL/wrapper.py:678\u001b[0m, in \u001b[0;36mWrapper.finaliseCall.<locals>.wrapperCall\u001b[0;34m(*args)\u001b[0m\n\u001b[1;32m    676\u001b[0m     err\u001b[38;5;241m.\u001b[39mcArgs \u001b[38;5;241m=\u001b[39m cArgs\n\u001b[1;32m    677\u001b[0m     err\u001b[38;5;241m.\u001b[39mpyArgs \u001b[38;5;241m=\u001b[39m pyArgs\n\u001b[0;32m--> 678\u001b[0m     \u001b[38;5;28;01mraise\u001b[39;00m err\n\u001b[1;32m    679\u001b[0m \u001b[38;5;28;01mreturn\u001b[39;00m returnValues(\n\u001b[1;32m    680\u001b[0m     result,\n\u001b[1;32m    681\u001b[0m     \u001b[38;5;28mself\u001b[39m,\n\u001b[1;32m    682\u001b[0m     pyArgs,\n\u001b[1;32m    683\u001b[0m     cArgs,\n\u001b[1;32m    684\u001b[0m )\n",
      "File \u001b[0;32m/opt/homebrew/anaconda3/envs/games_engineering/lib/python3.13/site-packages/OpenGL/wrapper.py:671\u001b[0m, in \u001b[0;36mWrapper.finaliseCall.<locals>.wrapperCall\u001b[0;34m(*args)\u001b[0m\n\u001b[1;32m    669\u001b[0m cArguments \u001b[38;5;241m=\u001b[39m cArgs\n\u001b[1;32m    670\u001b[0m \u001b[38;5;28;01mtry\u001b[39;00m:\n\u001b[0;32m--> 671\u001b[0m     result \u001b[38;5;241m=\u001b[39m \u001b[43mwrappedOperation\u001b[49m\u001b[43m(\u001b[49m\u001b[43m \u001b[49m\u001b[38;5;241;43m*\u001b[39;49m\u001b[43mcArguments\u001b[49m\u001b[43m \u001b[49m\u001b[43m)\u001b[49m\n\u001b[1;32m    672\u001b[0m \u001b[38;5;28;01mexcept\u001b[39;00m ctypes\u001b[38;5;241m.\u001b[39mArgumentError \u001b[38;5;28;01mas\u001b[39;00m err:\n\u001b[1;32m    673\u001b[0m     err\u001b[38;5;241m.\u001b[39margs \u001b[38;5;241m=\u001b[39m err\u001b[38;5;241m.\u001b[39margs \u001b[38;5;241m+\u001b[39m (cArguments,)\n",
      "File \u001b[0;32m/opt/homebrew/anaconda3/envs/games_engineering/lib/python3.13/site-packages/OpenGL/error.py:230\u001b[0m, in \u001b[0;36m_ErrorChecker.glCheckError\u001b[0;34m(self, result, baseOperation, cArguments, *args)\u001b[0m\n\u001b[1;32m    228\u001b[0m err \u001b[38;5;241m=\u001b[39m \u001b[38;5;28mself\u001b[39m\u001b[38;5;241m.\u001b[39m_currentChecker()\n\u001b[1;32m    229\u001b[0m \u001b[38;5;28;01mif\u001b[39;00m err \u001b[38;5;241m!=\u001b[39m \u001b[38;5;28mself\u001b[39m\u001b[38;5;241m.\u001b[39m_noErrorResult:\n\u001b[0;32m--> 230\u001b[0m     \u001b[38;5;28;01mraise\u001b[39;00m \u001b[38;5;28mself\u001b[39m\u001b[38;5;241m.\u001b[39m_errorClass(\n\u001b[1;32m    231\u001b[0m         err,\n\u001b[1;32m    232\u001b[0m         result,\n\u001b[1;32m    233\u001b[0m         cArguments \u001b[38;5;241m=\u001b[39m cArguments,\n\u001b[1;32m    234\u001b[0m         baseOperation \u001b[38;5;241m=\u001b[39m baseOperation,\n\u001b[1;32m    235\u001b[0m     )\n\u001b[1;32m    236\u001b[0m \u001b[38;5;28;01mreturn\u001b[39;00m result\n",
      "\u001b[0;31mGLError\u001b[0m: GLError(\n\terr = 1282,\n\tdescription = b'invalid operation',\n\tbaseOperation = glGenVertexArrays,\n\tpyArgs = (1, <object object at 0x104ea3450>),\n\tcArgs = (1, array([0], dtype=uint32)),\n\tcArguments = (1, array([0], dtype=uint32))\n)"
     ]
    },
    {
     "ename": "",
     "evalue": "",
     "output_type": "error",
     "traceback": [
      "\u001b[1;31mThe Kernel crashed while executing code in the current cell or a previous cell. \n",
      "\u001b[1;31mPlease review the code in the cell(s) to identify a possible cause of the failure. \n",
      "\u001b[1;31mClick <a href='https://aka.ms/vscodeJupyterKernelCrash'>here</a> for more info. \n",
      "\u001b[1;31mView Jupyter <a href='command:jupyter.viewOutput'>log</a> for further details."
     ]
    }
   ],
   "source": [
    "from pathlib import Path\n",
    "from renderer import Renderer\n",
    "\n",
    "from data_structures.scene import Scene\n",
    "from data_structures.color import Color\n",
    "\n",
    "from OpenGL.GL import *\n",
    "\n",
    "\n",
    "print(\"OpenGL: \" + str(glGetString(GL_VERSION)))\n",
    "print('glGenVertexArrays Available %s' % bool(glGenVertexArrays))\n",
    "vao = glGenVertexArrays(1)\n",
    "\n",
    "path = 'lightmaps/test_scene_test'\n",
    "#path = 'lightmaps/test_scene_sunlight'\n",
    "\n",
    "scene = Scene().load(Path(f'{path}.json'))\n",
    "renderer = Renderer(width=2160, height=1080, fov=90, scene=scene, atmosphere_color=Color(0.0, 0.0, 0.0), lightmap_mode=False, light_map_path=Path(f'{path}.hdr'))\n",
    "renderer.run()\n",
    "renderer.destroy()"
   ]
  },
  {
   "cell_type": "code",
   "execution_count": null,
   "metadata": {},
   "outputs": [],
   "source": []
  }
 ],
 "metadata": {
  "kernelspec": {
   "display_name": "games_engineering",
   "language": "python",
   "name": "python3"
  },
  "language_info": {
   "codemirror_mode": {
    "name": "ipython",
    "version": 3
   },
   "file_extension": ".py",
   "mimetype": "text/x-python",
   "name": "python",
   "nbconvert_exporter": "python",
   "pygments_lexer": "ipython3",
   "version": "3.13.0"
  }
 },
 "nbformat": 4,
 "nbformat_minor": 2
}
