{
 "cells": [
  {
   "cell_type": "code",
   "execution_count": 2,
   "metadata": {},
   "outputs": [
    {
     "ename": "NameError",
     "evalue": "name 'exit' is not defined",
     "output_type": "error",
     "traceback": [
      "\u001b[1;31m---------------------------------------------------------------------------\u001b[0m",
      "\u001b[1;31mNameError\u001b[0m                                 Traceback (most recent call last)",
      "Cell \u001b[1;32mIn[2], line 12\u001b[0m\n\u001b[0;32m     10\u001b[0m scene \u001b[38;5;241m=\u001b[39m Scene()\u001b[38;5;241m.\u001b[39mload(Path(\u001b[38;5;124mf\u001b[39m\u001b[38;5;124m'\u001b[39m\u001b[38;5;132;01m{\u001b[39;00mpath\u001b[38;5;132;01m}\u001b[39;00m\u001b[38;5;124m.json\u001b[39m\u001b[38;5;124m'\u001b[39m))\n\u001b[0;32m     11\u001b[0m renderer \u001b[38;5;241m=\u001b[39m Renderer(width\u001b[38;5;241m=\u001b[39m\u001b[38;5;241m2160\u001b[39m, height\u001b[38;5;241m=\u001b[39m\u001b[38;5;241m1080\u001b[39m, fov\u001b[38;5;241m=\u001b[39m\u001b[38;5;241m90\u001b[39m, scene\u001b[38;5;241m=\u001b[39mscene, atmosphere_color\u001b[38;5;241m=\u001b[39mColor(\u001b[38;5;241m0.0\u001b[39m, \u001b[38;5;241m0.0\u001b[39m, \u001b[38;5;241m0.0\u001b[39m), lightmap_mode\u001b[38;5;241m=\u001b[39m\u001b[38;5;28;01mFalse\u001b[39;00m, light_map_path\u001b[38;5;241m=\u001b[39mPath(\u001b[38;5;124mf\u001b[39m\u001b[38;5;124m'\u001b[39m\u001b[38;5;132;01m{\u001b[39;00mpath\u001b[38;5;132;01m}\u001b[39;00m\u001b[38;5;124m.hdr\u001b[39m\u001b[38;5;124m'\u001b[39m))\n\u001b[1;32m---> 12\u001b[0m \u001b[43mrenderer\u001b[49m\u001b[38;5;241;43m.\u001b[39;49m\u001b[43mrun\u001b[49m\u001b[43m(\u001b[49m\u001b[43m)\u001b[49m\n\u001b[0;32m     13\u001b[0m renderer\u001b[38;5;241m.\u001b[39mdestroy()\n",
      "File \u001b[1;32md:\\data\\Informatik\\GamesEngineering\\Bayernstein\\tools\\lightmapper\\renderer.py:224\u001b[0m, in \u001b[0;36mRenderer.run\u001b[1;34m(self)\u001b[0m\n\u001b[0;32m    221\u001b[0m running \u001b[38;5;241m=\u001b[39m \u001b[38;5;28;01mTrue\u001b[39;00m\n\u001b[0;32m    222\u001b[0m \u001b[38;5;28;01mwhile\u001b[39;00m running:\n\u001b[1;32m--> 224\u001b[0m     \u001b[38;5;28;43mself\u001b[39;49m\u001b[38;5;241;43m.\u001b[39;49m\u001b[43m_process_input\u001b[49m\u001b[43m(\u001b[49m\u001b[43m)\u001b[49m\n\u001b[0;32m    225\u001b[0m     \u001b[38;5;28mself\u001b[39m\u001b[38;5;241m.\u001b[39m_update_camera_vectors()\n\u001b[0;32m    226\u001b[0m     \u001b[38;5;28mself\u001b[39m\u001b[38;5;241m.\u001b[39mupdate_view_matrix(\u001b[38;5;28mself\u001b[39m\u001b[38;5;241m.\u001b[39mcamera_pos, \u001b[38;5;28mself\u001b[39m\u001b[38;5;241m.\u001b[39mcamera_front, \u001b[38;5;28mself\u001b[39m\u001b[38;5;241m.\u001b[39mcamera_up)\n",
      "File \u001b[1;32md:\\data\\Informatik\\GamesEngineering\\Bayernstein\\tools\\lightmapper\\renderer.py:277\u001b[0m, in \u001b[0;36mRenderer._process_input\u001b[1;34m(self)\u001b[0m\n\u001b[0;32m    275\u001b[0m \u001b[38;5;28;01mif\u001b[39;00m event\u001b[38;5;241m.\u001b[39mtype \u001b[38;5;241m==\u001b[39m pg\u001b[38;5;241m.\u001b[39mQUIT:\n\u001b[0;32m    276\u001b[0m     pg\u001b[38;5;241m.\u001b[39mquit()\n\u001b[1;32m--> 277\u001b[0m     \u001b[43mexit\u001b[49m()\n",
      "\u001b[1;31mNameError\u001b[0m: name 'exit' is not defined"
     ]
    }
   ],
   "source": [
    "from pathlib import Path\n",
    "from renderer import Renderer\n",
    "\n",
    "from data_structures.scene import Scene\n",
    "from data_structures.color import Color\n",
    "\n",
    "path = 'lightmaps/test_scene_colors'\n",
    "#path = 'lightmaps/test_scene_sunlight'\n",
    "\n",
    "scene = Scene().load(Path(f'{path}.json'))\n",
    "renderer = Renderer(width=2160, height=1080, fov=90, scene=scene, atmosphere_color=Color(0.0, 0.0, 0.0), lightmap_mode=False, light_map_path=Path(f'{path}.hdr'))\n",
    "renderer.run()\n",
    "renderer.destroy()"
   ]
  },
  {
   "cell_type": "code",
   "execution_count": null,
   "metadata": {},
   "outputs": [],
   "source": []
  }
 ],
 "metadata": {
  "kernelspec": {
   "display_name": "Python 3",
   "language": "python",
   "name": "python3"
  },
  "language_info": {
   "codemirror_mode": {
    "name": "ipython",
    "version": 3
   },
   "file_extension": ".py",
   "mimetype": "text/x-python",
   "name": "python",
   "nbconvert_exporter": "python",
   "pygments_lexer": "ipython3",
   "version": "3.12.2"
  }
 },
 "nbformat": 4,
 "nbformat_minor": 2
}
